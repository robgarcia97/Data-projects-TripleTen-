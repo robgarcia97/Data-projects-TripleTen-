{
 "cells": [
  {
   "cell_type": "markdown",
   "metadata": {},
   "source": [
    "# Project Plan"
   ]
  },
  {
   "cell_type": "code",
   "execution_count": 1,
   "metadata": {},
   "outputs": [
    {
     "name": "stdout",
     "output_type": "stream",
     "text": [
      "--- Contract DataFrame Info ---\n",
      "<class 'pandas.core.frame.DataFrame'>\n",
      "RangeIndex: 7043 entries, 0 to 7042\n",
      "Data columns (total 8 columns):\n",
      " #   Column            Non-Null Count  Dtype  \n",
      "---  ------            --------------  -----  \n",
      " 0   customerID        7043 non-null   object \n",
      " 1   BeginDate         7043 non-null   object \n",
      " 2   EndDate           7043 non-null   object \n",
      " 3   Type              7043 non-null   object \n",
      " 4   PaperlessBilling  7043 non-null   object \n",
      " 5   PaymentMethod     7043 non-null   object \n",
      " 6   MonthlyCharges    7043 non-null   float64\n",
      " 7   TotalCharges      7043 non-null   object \n",
      "dtypes: float64(1), object(7)\n",
      "memory usage: 440.3+ KB\n"
     ]
    },
    {
     "data": {
      "text/plain": [
       "None"
      ]
     },
     "metadata": {},
     "output_type": "display_data"
    },
    {
     "name": "stdout",
     "output_type": "stream",
     "text": [
      "\n",
      "Summary Statistics:\n"
     ]
    },
    {
     "data": {
      "text/html": [
       "<div>\n",
       "<style scoped>\n",
       "    .dataframe tbody tr th:only-of-type {\n",
       "        vertical-align: middle;\n",
       "    }\n",
       "\n",
       "    .dataframe tbody tr th {\n",
       "        vertical-align: top;\n",
       "    }\n",
       "\n",
       "    .dataframe thead th {\n",
       "        text-align: right;\n",
       "    }\n",
       "</style>\n",
       "<table border=\"1\" class=\"dataframe\">\n",
       "  <thead>\n",
       "    <tr style=\"text-align: right;\">\n",
       "      <th></th>\n",
       "      <th>customerID</th>\n",
       "      <th>BeginDate</th>\n",
       "      <th>EndDate</th>\n",
       "      <th>Type</th>\n",
       "      <th>PaperlessBilling</th>\n",
       "      <th>PaymentMethod</th>\n",
       "      <th>MonthlyCharges</th>\n",
       "      <th>TotalCharges</th>\n",
       "    </tr>\n",
       "  </thead>\n",
       "  <tbody>\n",
       "    <tr>\n",
       "      <th>count</th>\n",
       "      <td>7043</td>\n",
       "      <td>7043</td>\n",
       "      <td>7043</td>\n",
       "      <td>7043</td>\n",
       "      <td>7043</td>\n",
       "      <td>7043</td>\n",
       "      <td>7043.000000</td>\n",
       "      <td>7043</td>\n",
       "    </tr>\n",
       "    <tr>\n",
       "      <th>unique</th>\n",
       "      <td>7043</td>\n",
       "      <td>77</td>\n",
       "      <td>5</td>\n",
       "      <td>3</td>\n",
       "      <td>2</td>\n",
       "      <td>4</td>\n",
       "      <td>NaN</td>\n",
       "      <td>6531</td>\n",
       "    </tr>\n",
       "    <tr>\n",
       "      <th>top</th>\n",
       "      <td>9170-CCKOU</td>\n",
       "      <td>2014-02-01</td>\n",
       "      <td>No</td>\n",
       "      <td>Month-to-month</td>\n",
       "      <td>Yes</td>\n",
       "      <td>Electronic check</td>\n",
       "      <td>NaN</td>\n",
       "      <td>20.2</td>\n",
       "    </tr>\n",
       "    <tr>\n",
       "      <th>freq</th>\n",
       "      <td>1</td>\n",
       "      <td>366</td>\n",
       "      <td>5174</td>\n",
       "      <td>3875</td>\n",
       "      <td>4171</td>\n",
       "      <td>2365</td>\n",
       "      <td>NaN</td>\n",
       "      <td>11</td>\n",
       "    </tr>\n",
       "    <tr>\n",
       "      <th>mean</th>\n",
       "      <td>NaN</td>\n",
       "      <td>NaN</td>\n",
       "      <td>NaN</td>\n",
       "      <td>NaN</td>\n",
       "      <td>NaN</td>\n",
       "      <td>NaN</td>\n",
       "      <td>64.761692</td>\n",
       "      <td>NaN</td>\n",
       "    </tr>\n",
       "    <tr>\n",
       "      <th>std</th>\n",
       "      <td>NaN</td>\n",
       "      <td>NaN</td>\n",
       "      <td>NaN</td>\n",
       "      <td>NaN</td>\n",
       "      <td>NaN</td>\n",
       "      <td>NaN</td>\n",
       "      <td>30.090047</td>\n",
       "      <td>NaN</td>\n",
       "    </tr>\n",
       "    <tr>\n",
       "      <th>min</th>\n",
       "      <td>NaN</td>\n",
       "      <td>NaN</td>\n",
       "      <td>NaN</td>\n",
       "      <td>NaN</td>\n",
       "      <td>NaN</td>\n",
       "      <td>NaN</td>\n",
       "      <td>18.250000</td>\n",
       "      <td>NaN</td>\n",
       "    </tr>\n",
       "    <tr>\n",
       "      <th>25%</th>\n",
       "      <td>NaN</td>\n",
       "      <td>NaN</td>\n",
       "      <td>NaN</td>\n",
       "      <td>NaN</td>\n",
       "      <td>NaN</td>\n",
       "      <td>NaN</td>\n",
       "      <td>35.500000</td>\n",
       "      <td>NaN</td>\n",
       "    </tr>\n",
       "    <tr>\n",
       "      <th>50%</th>\n",
       "      <td>NaN</td>\n",
       "      <td>NaN</td>\n",
       "      <td>NaN</td>\n",
       "      <td>NaN</td>\n",
       "      <td>NaN</td>\n",
       "      <td>NaN</td>\n",
       "      <td>70.350000</td>\n",
       "      <td>NaN</td>\n",
       "    </tr>\n",
       "    <tr>\n",
       "      <th>75%</th>\n",
       "      <td>NaN</td>\n",
       "      <td>NaN</td>\n",
       "      <td>NaN</td>\n",
       "      <td>NaN</td>\n",
       "      <td>NaN</td>\n",
       "      <td>NaN</td>\n",
       "      <td>89.850000</td>\n",
       "      <td>NaN</td>\n",
       "    </tr>\n",
       "    <tr>\n",
       "      <th>max</th>\n",
       "      <td>NaN</td>\n",
       "      <td>NaN</td>\n",
       "      <td>NaN</td>\n",
       "      <td>NaN</td>\n",
       "      <td>NaN</td>\n",
       "      <td>NaN</td>\n",
       "      <td>118.750000</td>\n",
       "      <td>NaN</td>\n",
       "    </tr>\n",
       "  </tbody>\n",
       "</table>\n",
       "</div>"
      ],
      "text/plain": [
       "        customerID   BeginDate EndDate            Type PaperlessBilling  \\\n",
       "count         7043        7043    7043            7043             7043   \n",
       "unique        7043          77       5               3                2   \n",
       "top     9170-CCKOU  2014-02-01      No  Month-to-month              Yes   \n",
       "freq             1         366    5174            3875             4171   \n",
       "mean           NaN         NaN     NaN             NaN              NaN   \n",
       "std            NaN         NaN     NaN             NaN              NaN   \n",
       "min            NaN         NaN     NaN             NaN              NaN   \n",
       "25%            NaN         NaN     NaN             NaN              NaN   \n",
       "50%            NaN         NaN     NaN             NaN              NaN   \n",
       "75%            NaN         NaN     NaN             NaN              NaN   \n",
       "max            NaN         NaN     NaN             NaN              NaN   \n",
       "\n",
       "           PaymentMethod  MonthlyCharges TotalCharges  \n",
       "count               7043     7043.000000         7043  \n",
       "unique                 4             NaN         6531  \n",
       "top     Electronic check             NaN         20.2  \n",
       "freq                2365             NaN           11  \n",
       "mean                 NaN       64.761692          NaN  \n",
       "std                  NaN       30.090047          NaN  \n",
       "min                  NaN       18.250000          NaN  \n",
       "25%                  NaN       35.500000          NaN  \n",
       "50%                  NaN       70.350000          NaN  \n",
       "75%                  NaN       89.850000          NaN  \n",
       "max                  NaN      118.750000          NaN  "
      ]
     },
     "metadata": {},
     "output_type": "display_data"
    },
    {
     "name": "stdout",
     "output_type": "stream",
     "text": [
      "\n",
      "\n",
      "--- Internet DataFrame Info ---\n",
      "<class 'pandas.core.frame.DataFrame'>\n",
      "RangeIndex: 149396 entries, 0 to 149395\n",
      "Data columns (total 5 columns):\n",
      " #   Column        Non-Null Count   Dtype  \n",
      "---  ------        --------------   -----  \n",
      " 0   Unnamed: 0    149396 non-null  int64  \n",
      " 1   id            149396 non-null  object \n",
      " 2   mb_used       149396 non-null  float64\n",
      " 3   session_date  149396 non-null  object \n",
      " 4   user_id       149396 non-null  int64  \n",
      "dtypes: float64(1), int64(2), object(2)\n",
      "memory usage: 5.7+ MB\n"
     ]
    },
    {
     "data": {
      "text/plain": [
       "None"
      ]
     },
     "metadata": {},
     "output_type": "display_data"
    },
    {
     "name": "stdout",
     "output_type": "stream",
     "text": [
      "\n",
      "Summary Statistics:\n"
     ]
    },
    {
     "data": {
      "text/html": [
       "<div>\n",
       "<style scoped>\n",
       "    .dataframe tbody tr th:only-of-type {\n",
       "        vertical-align: middle;\n",
       "    }\n",
       "\n",
       "    .dataframe tbody tr th {\n",
       "        vertical-align: top;\n",
       "    }\n",
       "\n",
       "    .dataframe thead th {\n",
       "        text-align: right;\n",
       "    }\n",
       "</style>\n",
       "<table border=\"1\" class=\"dataframe\">\n",
       "  <thead>\n",
       "    <tr style=\"text-align: right;\">\n",
       "      <th></th>\n",
       "      <th>Unnamed: 0</th>\n",
       "      <th>id</th>\n",
       "      <th>mb_used</th>\n",
       "      <th>session_date</th>\n",
       "      <th>user_id</th>\n",
       "    </tr>\n",
       "  </thead>\n",
       "  <tbody>\n",
       "    <tr>\n",
       "      <th>count</th>\n",
       "      <td>149396.000000</td>\n",
       "      <td>149396</td>\n",
       "      <td>149396.000000</td>\n",
       "      <td>149396</td>\n",
       "      <td>149396.000000</td>\n",
       "    </tr>\n",
       "    <tr>\n",
       "      <th>unique</th>\n",
       "      <td>NaN</td>\n",
       "      <td>149396</td>\n",
       "      <td>NaN</td>\n",
       "      <td>365</td>\n",
       "      <td>NaN</td>\n",
       "    </tr>\n",
       "    <tr>\n",
       "      <th>top</th>\n",
       "      <td>NaN</td>\n",
       "      <td>1415_335</td>\n",
       "      <td>NaN</td>\n",
       "      <td>2018-12-31</td>\n",
       "      <td>NaN</td>\n",
       "    </tr>\n",
       "    <tr>\n",
       "      <th>freq</th>\n",
       "      <td>NaN</td>\n",
       "      <td>1</td>\n",
       "      <td>NaN</td>\n",
       "      <td>1057</td>\n",
       "      <td>NaN</td>\n",
       "    </tr>\n",
       "    <tr>\n",
       "      <th>mean</th>\n",
       "      <td>74697.500000</td>\n",
       "      <td>NaN</td>\n",
       "      <td>370.192426</td>\n",
       "      <td>NaN</td>\n",
       "      <td>1252.099842</td>\n",
       "    </tr>\n",
       "    <tr>\n",
       "      <th>std</th>\n",
       "      <td>43127.054745</td>\n",
       "      <td>NaN</td>\n",
       "      <td>278.300951</td>\n",
       "      <td>NaN</td>\n",
       "      <td>144.050823</td>\n",
       "    </tr>\n",
       "    <tr>\n",
       "      <th>min</th>\n",
       "      <td>0.000000</td>\n",
       "      <td>NaN</td>\n",
       "      <td>0.000000</td>\n",
       "      <td>NaN</td>\n",
       "      <td>1000.000000</td>\n",
       "    </tr>\n",
       "    <tr>\n",
       "      <th>25%</th>\n",
       "      <td>37348.750000</td>\n",
       "      <td>NaN</td>\n",
       "      <td>138.187500</td>\n",
       "      <td>NaN</td>\n",
       "      <td>1130.000000</td>\n",
       "    </tr>\n",
       "    <tr>\n",
       "      <th>50%</th>\n",
       "      <td>74697.500000</td>\n",
       "      <td>NaN</td>\n",
       "      <td>348.015000</td>\n",
       "      <td>NaN</td>\n",
       "      <td>1251.000000</td>\n",
       "    </tr>\n",
       "    <tr>\n",
       "      <th>75%</th>\n",
       "      <td>112046.250000</td>\n",
       "      <td>NaN</td>\n",
       "      <td>559.552500</td>\n",
       "      <td>NaN</td>\n",
       "      <td>1380.000000</td>\n",
       "    </tr>\n",
       "    <tr>\n",
       "      <th>max</th>\n",
       "      <td>149395.000000</td>\n",
       "      <td>NaN</td>\n",
       "      <td>1724.830000</td>\n",
       "      <td>NaN</td>\n",
       "      <td>1499.000000</td>\n",
       "    </tr>\n",
       "  </tbody>\n",
       "</table>\n",
       "</div>"
      ],
      "text/plain": [
       "           Unnamed: 0        id        mb_used session_date        user_id\n",
       "count   149396.000000    149396  149396.000000       149396  149396.000000\n",
       "unique            NaN    149396            NaN          365            NaN\n",
       "top               NaN  1415_335            NaN   2018-12-31            NaN\n",
       "freq              NaN         1            NaN         1057            NaN\n",
       "mean     74697.500000       NaN     370.192426          NaN    1252.099842\n",
       "std      43127.054745       NaN     278.300951          NaN     144.050823\n",
       "min          0.000000       NaN       0.000000          NaN    1000.000000\n",
       "25%      37348.750000       NaN     138.187500          NaN    1130.000000\n",
       "50%      74697.500000       NaN     348.015000          NaN    1251.000000\n",
       "75%     112046.250000       NaN     559.552500          NaN    1380.000000\n",
       "max     149395.000000       NaN    1724.830000          NaN    1499.000000"
      ]
     },
     "metadata": {},
     "output_type": "display_data"
    },
    {
     "name": "stdout",
     "output_type": "stream",
     "text": [
      "\n",
      "\n",
      "--- Personal DataFrame Info ---\n",
      "<class 'pandas.core.frame.DataFrame'>\n",
      "RangeIndex: 7043 entries, 0 to 7042\n",
      "Data columns (total 5 columns):\n",
      " #   Column         Non-Null Count  Dtype \n",
      "---  ------         --------------  ----- \n",
      " 0   customerID     7043 non-null   object\n",
      " 1   gender         7043 non-null   object\n",
      " 2   SeniorCitizen  7043 non-null   int64 \n",
      " 3   Partner        7043 non-null   object\n",
      " 4   Dependents     7043 non-null   object\n",
      "dtypes: int64(1), object(4)\n",
      "memory usage: 275.2+ KB\n"
     ]
    },
    {
     "data": {
      "text/plain": [
       "None"
      ]
     },
     "metadata": {},
     "output_type": "display_data"
    },
    {
     "name": "stdout",
     "output_type": "stream",
     "text": [
      "\n",
      "Summary Statistics:\n"
     ]
    },
    {
     "data": {
      "text/html": [
       "<div>\n",
       "<style scoped>\n",
       "    .dataframe tbody tr th:only-of-type {\n",
       "        vertical-align: middle;\n",
       "    }\n",
       "\n",
       "    .dataframe tbody tr th {\n",
       "        vertical-align: top;\n",
       "    }\n",
       "\n",
       "    .dataframe thead th {\n",
       "        text-align: right;\n",
       "    }\n",
       "</style>\n",
       "<table border=\"1\" class=\"dataframe\">\n",
       "  <thead>\n",
       "    <tr style=\"text-align: right;\">\n",
       "      <th></th>\n",
       "      <th>customerID</th>\n",
       "      <th>gender</th>\n",
       "      <th>SeniorCitizen</th>\n",
       "      <th>Partner</th>\n",
       "      <th>Dependents</th>\n",
       "    </tr>\n",
       "  </thead>\n",
       "  <tbody>\n",
       "    <tr>\n",
       "      <th>count</th>\n",
       "      <td>7043</td>\n",
       "      <td>7043</td>\n",
       "      <td>7043.000000</td>\n",
       "      <td>7043</td>\n",
       "      <td>7043</td>\n",
       "    </tr>\n",
       "    <tr>\n",
       "      <th>unique</th>\n",
       "      <td>7043</td>\n",
       "      <td>2</td>\n",
       "      <td>NaN</td>\n",
       "      <td>2</td>\n",
       "      <td>2</td>\n",
       "    </tr>\n",
       "    <tr>\n",
       "      <th>top</th>\n",
       "      <td>9170-CCKOU</td>\n",
       "      <td>Male</td>\n",
       "      <td>NaN</td>\n",
       "      <td>No</td>\n",
       "      <td>No</td>\n",
       "    </tr>\n",
       "    <tr>\n",
       "      <th>freq</th>\n",
       "      <td>1</td>\n",
       "      <td>3555</td>\n",
       "      <td>NaN</td>\n",
       "      <td>3641</td>\n",
       "      <td>4933</td>\n",
       "    </tr>\n",
       "    <tr>\n",
       "      <th>mean</th>\n",
       "      <td>NaN</td>\n",
       "      <td>NaN</td>\n",
       "      <td>0.162147</td>\n",
       "      <td>NaN</td>\n",
       "      <td>NaN</td>\n",
       "    </tr>\n",
       "    <tr>\n",
       "      <th>std</th>\n",
       "      <td>NaN</td>\n",
       "      <td>NaN</td>\n",
       "      <td>0.368612</td>\n",
       "      <td>NaN</td>\n",
       "      <td>NaN</td>\n",
       "    </tr>\n",
       "    <tr>\n",
       "      <th>min</th>\n",
       "      <td>NaN</td>\n",
       "      <td>NaN</td>\n",
       "      <td>0.000000</td>\n",
       "      <td>NaN</td>\n",
       "      <td>NaN</td>\n",
       "    </tr>\n",
       "    <tr>\n",
       "      <th>25%</th>\n",
       "      <td>NaN</td>\n",
       "      <td>NaN</td>\n",
       "      <td>0.000000</td>\n",
       "      <td>NaN</td>\n",
       "      <td>NaN</td>\n",
       "    </tr>\n",
       "    <tr>\n",
       "      <th>50%</th>\n",
       "      <td>NaN</td>\n",
       "      <td>NaN</td>\n",
       "      <td>0.000000</td>\n",
       "      <td>NaN</td>\n",
       "      <td>NaN</td>\n",
       "    </tr>\n",
       "    <tr>\n",
       "      <th>75%</th>\n",
       "      <td>NaN</td>\n",
       "      <td>NaN</td>\n",
       "      <td>0.000000</td>\n",
       "      <td>NaN</td>\n",
       "      <td>NaN</td>\n",
       "    </tr>\n",
       "    <tr>\n",
       "      <th>max</th>\n",
       "      <td>NaN</td>\n",
       "      <td>NaN</td>\n",
       "      <td>1.000000</td>\n",
       "      <td>NaN</td>\n",
       "      <td>NaN</td>\n",
       "    </tr>\n",
       "  </tbody>\n",
       "</table>\n",
       "</div>"
      ],
      "text/plain": [
       "        customerID gender  SeniorCitizen Partner Dependents\n",
       "count         7043   7043    7043.000000    7043       7043\n",
       "unique        7043      2            NaN       2          2\n",
       "top     9170-CCKOU   Male            NaN      No         No\n",
       "freq             1   3555            NaN    3641       4933\n",
       "mean           NaN    NaN       0.162147     NaN        NaN\n",
       "std            NaN    NaN       0.368612     NaN        NaN\n",
       "min            NaN    NaN       0.000000     NaN        NaN\n",
       "25%            NaN    NaN       0.000000     NaN        NaN\n",
       "50%            NaN    NaN       0.000000     NaN        NaN\n",
       "75%            NaN    NaN       0.000000     NaN        NaN\n",
       "max            NaN    NaN       1.000000     NaN        NaN"
      ]
     },
     "metadata": {},
     "output_type": "display_data"
    },
    {
     "name": "stdout",
     "output_type": "stream",
     "text": [
      "\n",
      "\n",
      "--- Phone DataFrame Info ---\n",
      "<class 'pandas.core.frame.DataFrame'>\n",
      "RangeIndex: 6361 entries, 0 to 6360\n",
      "Data columns (total 2 columns):\n",
      " #   Column         Non-Null Count  Dtype \n",
      "---  ------         --------------  ----- \n",
      " 0   customerID     6361 non-null   object\n",
      " 1   MultipleLines  6361 non-null   object\n",
      "dtypes: object(2)\n",
      "memory usage: 99.5+ KB\n"
     ]
    },
    {
     "data": {
      "text/plain": [
       "None"
      ]
     },
     "metadata": {},
     "output_type": "display_data"
    },
    {
     "name": "stdout",
     "output_type": "stream",
     "text": [
      "\n",
      "Summary Statistics:\n"
     ]
    },
    {
     "data": {
      "text/html": [
       "<div>\n",
       "<style scoped>\n",
       "    .dataframe tbody tr th:only-of-type {\n",
       "        vertical-align: middle;\n",
       "    }\n",
       "\n",
       "    .dataframe tbody tr th {\n",
       "        vertical-align: top;\n",
       "    }\n",
       "\n",
       "    .dataframe thead th {\n",
       "        text-align: right;\n",
       "    }\n",
       "</style>\n",
       "<table border=\"1\" class=\"dataframe\">\n",
       "  <thead>\n",
       "    <tr style=\"text-align: right;\">\n",
       "      <th></th>\n",
       "      <th>customerID</th>\n",
       "      <th>MultipleLines</th>\n",
       "    </tr>\n",
       "  </thead>\n",
       "  <tbody>\n",
       "    <tr>\n",
       "      <th>count</th>\n",
       "      <td>6361</td>\n",
       "      <td>6361</td>\n",
       "    </tr>\n",
       "    <tr>\n",
       "      <th>unique</th>\n",
       "      <td>6361</td>\n",
       "      <td>2</td>\n",
       "    </tr>\n",
       "    <tr>\n",
       "      <th>top</th>\n",
       "      <td>0083-PIVIK</td>\n",
       "      <td>No</td>\n",
       "    </tr>\n",
       "    <tr>\n",
       "      <th>freq</th>\n",
       "      <td>1</td>\n",
       "      <td>3390</td>\n",
       "    </tr>\n",
       "  </tbody>\n",
       "</table>\n",
       "</div>"
      ],
      "text/plain": [
       "        customerID MultipleLines\n",
       "count         6361          6361\n",
       "unique        6361             2\n",
       "top     0083-PIVIK            No\n",
       "freq             1          3390"
      ]
     },
     "metadata": {},
     "output_type": "display_data"
    },
    {
     "name": "stdout",
     "output_type": "stream",
     "text": [
      "\n",
      "\n"
     ]
    }
   ],
   "source": [
    "import matplotlib.pyplot as plt\n",
    "import seaborn as sns\n",
    "import pandas as pd\n",
    "import numpy as np\n",
    "from sklearn.model_selection import train_test_split\n",
    "from sklearn.preprocessing import StandardScaler, LabelEncoder\n",
    "from xgboost import XGBClassifier\n",
    "from sklearn.metrics import roc_auc_score, accuracy_score\n",
    "\n",
    "\n",
    "# Define file paths\n",
    "contract_path = '/datasets/contract.csv'\n",
    "internet_path = '/datasets/internet.csv'\n",
    "personal_path = '/datasets/personal.csv'\n",
    "phone_path = '/datasets/phone.csv'\n",
    "\n",
    "# Load the data into dataframes\n",
    "contract_df = pd.read_csv(contract_path)\n",
    "internet_df = pd.read_csv(internet_path)\n",
    "personal_df = pd.read_csv(personal_path)\n",
    "phone_df = pd.read_csv(phone_path)\n",
    "\n",
    "# Display the first few rows of each DataFrame to inspect initial structure and content\n",
    "contract_df.head(), internet_df.head(), personal_df.head(), phone_df.head()\n",
    "\n",
    "\n",
    "\n",
    "# Step 1: Basic Information and Summary Statistics\n",
    "# Display basic info and summary statistics for each DataFrame\n",
    "def display_basic_info(df, df_name):\n",
    "    print(f\"--- {df_name} DataFrame Info ---\")\n",
    "    display(df.info())\n",
    "    print(\"\\nSummary Statistics:\")\n",
    "    display(df.describe(include='all'))\n",
    "    print(\"\\n\")\n",
    "\n",
    "# Basic info for all datasets\n",
    "display_basic_info(contract_df, \"Contract\")\n",
    "display_basic_info(internet_df, \"Internet\")\n",
    "display_basic_info(personal_df, \"Personal\")\n",
    "display_basic_info(phone_df, \"Phone\")"
   ]
  },
  {
   "cell_type": "code",
   "execution_count": 2,
   "metadata": {},
   "outputs": [
    {
     "name": "stdout",
     "output_type": "stream",
     "text": [
      "--- Missing Values Analysis ---\n",
      "Contract missing values:\n",
      " customerID          0\n",
      "BeginDate           0\n",
      "EndDate             0\n",
      "Type                0\n",
      "PaperlessBilling    0\n",
      "PaymentMethod       0\n",
      "MonthlyCharges      0\n",
      "TotalCharges        0\n",
      "dtype: int64 \n",
      "\n",
      "Internet missing values:\n",
      " Unnamed: 0      0\n",
      "id              0\n",
      "mb_used         0\n",
      "session_date    0\n",
      "user_id         0\n",
      "dtype: int64 \n",
      "\n",
      "Personal missing values:\n",
      " customerID       0\n",
      "gender           0\n",
      "SeniorCitizen    0\n",
      "Partner          0\n",
      "Dependents       0\n",
      "dtype: int64 \n",
      "\n",
      "Phone missing values:\n",
      " customerID       0\n",
      "MultipleLines    0\n",
      "dtype: int64 \n",
      "\n"
     ]
    }
   ],
   "source": [
    "# Step 2: Missing Values Analysis\n",
    "# Check for missing values in each DataFrame\n",
    "print(\"--- Missing Values Analysis ---\")\n",
    "print(\"Contract missing values:\\n\", contract_df.isnull().sum(), \"\\n\")\n",
    "print(\"Internet missing values:\\n\", internet_df.isnull().sum(), \"\\n\")\n",
    "print(\"Personal missing values:\\n\", personal_df.isnull().sum(), \"\\n\")\n",
    "print(\"Phone missing values:\\n\", phone_df.isnull().sum(), \"\\n\")"
   ]
  },
  {
   "cell_type": "code",
   "execution_count": 3,
   "metadata": {},
   "outputs": [
    {
     "name": "stdout",
     "output_type": "stream",
     "text": [
      "--- Contract Unique Values and Data Types ---\n",
      "customerID: 7043 unique values; Type: object\n",
      "BeginDate: 77 unique values; Type: object\n",
      "EndDate: 5 unique values; Type: object\n",
      "Type: 3 unique values; Type: object\n",
      "PaperlessBilling: 2 unique values; Type: object\n",
      "PaymentMethod: 4 unique values; Type: object\n",
      "MonthlyCharges: 1585 unique values; Type: float64\n",
      "TotalCharges: 6531 unique values; Type: object\n",
      "\n",
      "\n",
      "--- Internet Unique Values and Data Types ---\n",
      "Unnamed: 0: 149396 unique values; Type: int64\n",
      "id: 149396 unique values; Type: object\n",
      "mb_used: 70003 unique values; Type: float64\n",
      "session_date: 365 unique values; Type: object\n",
      "user_id: 497 unique values; Type: int64\n",
      "\n",
      "\n",
      "--- Personal Unique Values and Data Types ---\n",
      "customerID: 7043 unique values; Type: object\n",
      "gender: 2 unique values; Type: object\n",
      "SeniorCitizen: 2 unique values; Type: int64\n",
      "Partner: 2 unique values; Type: object\n",
      "Dependents: 2 unique values; Type: object\n",
      "\n",
      "\n",
      "--- Phone Unique Values and Data Types ---\n",
      "customerID: 6361 unique values; Type: object\n",
      "MultipleLines: 2 unique values; Type: object\n",
      "\n",
      "\n"
     ]
    }
   ],
   "source": [
    "# Step 3: Unique Values and Data Types\n",
    "# Check unique values for categorical variables and data types in each DataFrame\n",
    "def unique_values_and_dtypes(df, df_name):\n",
    "    print(f\"--- {df_name} Unique Values and Data Types ---\")\n",
    "    for col in df.columns:\n",
    "        print(f\"{col}: {df[col].nunique()} unique values; Type: {df[col].dtype}\")\n",
    "    print(\"\\n\")\n",
    "\n",
    "unique_values_and_dtypes(contract_df, \"Contract\")\n",
    "unique_values_and_dtypes(internet_df, \"Internet\")\n",
    "unique_values_and_dtypes(personal_df, \"Personal\")\n",
    "unique_values_and_dtypes(phone_df, \"Phone\")"
   ]
  },
  {
   "cell_type": "code",
   "execution_count": 4,
   "metadata": {
    "scrolled": true
   },
   "outputs": [
    {
     "name": "stdout",
     "output_type": "stream",
     "text": [
      "--- Merged DataFrame Info ---\n",
      "<class 'pandas.core.frame.DataFrame'>\n",
      "Int64Index: 7043 entries, 0 to 7042\n",
      "Data columns (total 17 columns):\n",
      " #   Column            Non-Null Count  Dtype  \n",
      "---  ------            --------------  -----  \n",
      " 0   customerID        7043 non-null   object \n",
      " 1   BeginDate         7043 non-null   object \n",
      " 2   EndDate           7043 non-null   object \n",
      " 3   Type              7043 non-null   object \n",
      " 4   PaperlessBilling  7043 non-null   object \n",
      " 5   PaymentMethod     7043 non-null   object \n",
      " 6   MonthlyCharges    7043 non-null   float64\n",
      " 7   TotalCharges      7043 non-null   object \n",
      " 8   gender            7043 non-null   object \n",
      " 9   SeniorCitizen     7043 non-null   int64  \n",
      " 10  Partner           7043 non-null   object \n",
      " 11  Dependents        7043 non-null   object \n",
      " 12  Unnamed: 0        0 non-null      float64\n",
      " 13  id                0 non-null      object \n",
      " 14  mb_used           0 non-null      float64\n",
      " 15  session_date      0 non-null      object \n",
      " 16  MultipleLines     6361 non-null   object \n",
      "dtypes: float64(3), int64(1), object(13)\n",
      "memory usage: 990.4+ KB\n"
     ]
    },
    {
     "data": {
      "text/plain": [
       "None"
      ]
     },
     "metadata": {},
     "output_type": "display_data"
    },
    {
     "data": {
      "text/html": [
       "<div>\n",
       "<style scoped>\n",
       "    .dataframe tbody tr th:only-of-type {\n",
       "        vertical-align: middle;\n",
       "    }\n",
       "\n",
       "    .dataframe tbody tr th {\n",
       "        vertical-align: top;\n",
       "    }\n",
       "\n",
       "    .dataframe thead th {\n",
       "        text-align: right;\n",
       "    }\n",
       "</style>\n",
       "<table border=\"1\" class=\"dataframe\">\n",
       "  <thead>\n",
       "    <tr style=\"text-align: right;\">\n",
       "      <th></th>\n",
       "      <th>customerID</th>\n",
       "      <th>BeginDate</th>\n",
       "      <th>EndDate</th>\n",
       "      <th>Type</th>\n",
       "      <th>PaperlessBilling</th>\n",
       "      <th>PaymentMethod</th>\n",
       "      <th>MonthlyCharges</th>\n",
       "      <th>TotalCharges</th>\n",
       "      <th>gender</th>\n",
       "      <th>SeniorCitizen</th>\n",
       "      <th>Partner</th>\n",
       "      <th>Dependents</th>\n",
       "      <th>Unnamed: 0</th>\n",
       "      <th>id</th>\n",
       "      <th>mb_used</th>\n",
       "      <th>session_date</th>\n",
       "      <th>MultipleLines</th>\n",
       "    </tr>\n",
       "  </thead>\n",
       "  <tbody>\n",
       "    <tr>\n",
       "      <th>0</th>\n",
       "      <td>7590-VHVEG</td>\n",
       "      <td>2020-01-01</td>\n",
       "      <td>No</td>\n",
       "      <td>Month-to-month</td>\n",
       "      <td>Yes</td>\n",
       "      <td>Electronic check</td>\n",
       "      <td>29.85</td>\n",
       "      <td>29.85</td>\n",
       "      <td>Female</td>\n",
       "      <td>0</td>\n",
       "      <td>Yes</td>\n",
       "      <td>No</td>\n",
       "      <td>NaN</td>\n",
       "      <td>NaN</td>\n",
       "      <td>NaN</td>\n",
       "      <td>NaN</td>\n",
       "      <td>NaN</td>\n",
       "    </tr>\n",
       "    <tr>\n",
       "      <th>1</th>\n",
       "      <td>5575-GNVDE</td>\n",
       "      <td>2017-04-01</td>\n",
       "      <td>No</td>\n",
       "      <td>One year</td>\n",
       "      <td>No</td>\n",
       "      <td>Mailed check</td>\n",
       "      <td>56.95</td>\n",
       "      <td>1889.5</td>\n",
       "      <td>Male</td>\n",
       "      <td>0</td>\n",
       "      <td>No</td>\n",
       "      <td>No</td>\n",
       "      <td>NaN</td>\n",
       "      <td>NaN</td>\n",
       "      <td>NaN</td>\n",
       "      <td>NaN</td>\n",
       "      <td>No</td>\n",
       "    </tr>\n",
       "    <tr>\n",
       "      <th>2</th>\n",
       "      <td>3668-QPYBK</td>\n",
       "      <td>2019-10-01</td>\n",
       "      <td>2019-12-01 00:00:00</td>\n",
       "      <td>Month-to-month</td>\n",
       "      <td>Yes</td>\n",
       "      <td>Mailed check</td>\n",
       "      <td>53.85</td>\n",
       "      <td>108.15</td>\n",
       "      <td>Male</td>\n",
       "      <td>0</td>\n",
       "      <td>No</td>\n",
       "      <td>No</td>\n",
       "      <td>NaN</td>\n",
       "      <td>NaN</td>\n",
       "      <td>NaN</td>\n",
       "      <td>NaN</td>\n",
       "      <td>No</td>\n",
       "    </tr>\n",
       "    <tr>\n",
       "      <th>3</th>\n",
       "      <td>7795-CFOCW</td>\n",
       "      <td>2016-05-01</td>\n",
       "      <td>No</td>\n",
       "      <td>One year</td>\n",
       "      <td>No</td>\n",
       "      <td>Bank transfer (automatic)</td>\n",
       "      <td>42.30</td>\n",
       "      <td>1840.75</td>\n",
       "      <td>Male</td>\n",
       "      <td>0</td>\n",
       "      <td>No</td>\n",
       "      <td>No</td>\n",
       "      <td>NaN</td>\n",
       "      <td>NaN</td>\n",
       "      <td>NaN</td>\n",
       "      <td>NaN</td>\n",
       "      <td>NaN</td>\n",
       "    </tr>\n",
       "    <tr>\n",
       "      <th>4</th>\n",
       "      <td>9237-HQITU</td>\n",
       "      <td>2019-09-01</td>\n",
       "      <td>2019-11-01 00:00:00</td>\n",
       "      <td>Month-to-month</td>\n",
       "      <td>Yes</td>\n",
       "      <td>Electronic check</td>\n",
       "      <td>70.70</td>\n",
       "      <td>151.65</td>\n",
       "      <td>Female</td>\n",
       "      <td>0</td>\n",
       "      <td>No</td>\n",
       "      <td>No</td>\n",
       "      <td>NaN</td>\n",
       "      <td>NaN</td>\n",
       "      <td>NaN</td>\n",
       "      <td>NaN</td>\n",
       "      <td>No</td>\n",
       "    </tr>\n",
       "  </tbody>\n",
       "</table>\n",
       "</div>"
      ],
      "text/plain": [
       "   customerID   BeginDate              EndDate            Type  \\\n",
       "0  7590-VHVEG  2020-01-01                   No  Month-to-month   \n",
       "1  5575-GNVDE  2017-04-01                   No        One year   \n",
       "2  3668-QPYBK  2019-10-01  2019-12-01 00:00:00  Month-to-month   \n",
       "3  7795-CFOCW  2016-05-01                   No        One year   \n",
       "4  9237-HQITU  2019-09-01  2019-11-01 00:00:00  Month-to-month   \n",
       "\n",
       "  PaperlessBilling              PaymentMethod  MonthlyCharges TotalCharges  \\\n",
       "0              Yes           Electronic check           29.85        29.85   \n",
       "1               No               Mailed check           56.95       1889.5   \n",
       "2              Yes               Mailed check           53.85       108.15   \n",
       "3               No  Bank transfer (automatic)           42.30      1840.75   \n",
       "4              Yes           Electronic check           70.70       151.65   \n",
       "\n",
       "   gender  SeniorCitizen Partner Dependents  Unnamed: 0   id  mb_used  \\\n",
       "0  Female              0     Yes         No         NaN  NaN      NaN   \n",
       "1    Male              0      No         No         NaN  NaN      NaN   \n",
       "2    Male              0      No         No         NaN  NaN      NaN   \n",
       "3    Male              0      No         No         NaN  NaN      NaN   \n",
       "4  Female              0      No         No         NaN  NaN      NaN   \n",
       "\n",
       "  session_date MultipleLines  \n",
       "0          NaN           NaN  \n",
       "1          NaN            No  \n",
       "2          NaN            No  \n",
       "3          NaN           NaN  \n",
       "4          NaN            No  "
      ]
     },
     "metadata": {},
     "output_type": "display_data"
    }
   ],
   "source": [
    "# Rename the 'user_id' column in internet_df to 'customerID' for merging, if this is the intended identifier\n",
    "internet_df = internet_df.rename(columns={'user_id': 'customerID'})\n",
    "\n",
    "# Convert 'customerID' columns in each DataFrame to string type for consistent merging\n",
    "contract_df['customerID'] = contract_df['customerID'].astype(str)\n",
    "internet_df['customerID'] = internet_df['customerID'].astype(str)\n",
    "personal_df['customerID'] = personal_df['customerID'].astype(str)\n",
    "phone_df['customerID'] = phone_df['customerID'].astype(str)\n",
    "\n",
    "# Now, merge all DataFrames on 'customerID' to create a unified dataset\n",
    "merged_df = contract_df.merge(personal_df, on='customerID', how='left') \\\n",
    "                       .merge(internet_df, on='customerID', how='left') \\\n",
    "                       .merge(phone_df, on='customerID', how='left')\n",
    "\n",
    "# Display the structure of the merged DataFrame\n",
    "print(\"--- Merged DataFrame Info ---\")\n",
    "display(merged_df.info())\n",
    "display(merged_df.head())\n"
   ]
  },
  {
   "cell_type": "code",
   "execution_count": 5,
   "metadata": {},
   "outputs": [
    {
     "name": "stdout",
     "output_type": "stream",
     "text": [
      "\n",
      "--- Target Analysis ---\n",
      "EndDate Value Counts:\n",
      "No                     5174\n",
      "2019-11-01 00:00:00     485\n",
      "2019-12-01 00:00:00     466\n",
      "2020-01-01 00:00:00     460\n",
      "2019-10-01 00:00:00     458\n",
      "Name: EndDate, dtype: int64\n"
     ]
    },
    {
     "data": {
      "image/png": "[encoded data removed]",
      "text/plain": [
       "<Figure size 800x500 with 1 Axes>"
      ]
     },
     "metadata": {},
     "output_type": "display_data"
    }
   ],
   "source": [
    "# Step 5: Target Analysis\n",
    "# Analyze the distribution of the target variable (EndDate) to identify churned vs. active customers\n",
    "print(\"\\n--- Target Analysis ---\")\n",
    "print(\"EndDate Value Counts:\")\n",
    "print(merged_df['EndDate'].value_counts())\n",
    "\n",
    "# Visualize active vs churned clients\n",
    "plt.figure(figsize=(8, 5))\n",
    "sns.countplot(data=merged_df, x='EndDate', order=['No'] + [x for x in merged_df['EndDate'].unique() if x != 'No'])\n",
    "plt.title(\"Distribution of Churned vs Active Customers\")\n",
    "plt.xticks(rotation=45)\n",
    "plt.show()"
   ]
  },
  {
   "cell_type": "code",
   "execution_count": 6,
   "metadata": {},
   "outputs": [
    {
     "data": {
      "image/png": "[encoded data removed]",
      "text/plain": [
       "<Figure size 1500x1000 with 2 Axes>"
      ]
     },
     "metadata": {},
     "output_type": "display_data"
    }
   ],
   "source": [
    "# Step 6: Distribution of Numerical Features\n",
    "# Drop the 'Unnamed: 0' column if it exists\n",
    "if 'Unnamed: 0' in merged_df.columns:\n",
    "    merged_df = merged_df.drop(columns=['Unnamed: 0'])\n",
    "\n",
    "# Check for numerical columns that might be problematic\n",
    "num_cols = merged_df.select_dtypes(include=['float64', 'int64']).columns\n",
    "# Identify columns with all missing values or constant values\n",
    "valid_num_cols = [col for col in num_cols if merged_df[col].nunique() > 1 and merged_df[col].notna().all()]\n",
    "\n",
    "# Visualize distribution of key numerical features\n",
    "merged_df[valid_num_cols].hist(bins=30, figsize=(15, 10))\n",
    "plt.suptitle(\"Distribution of Numerical Features\")\n",
    "plt.show()\n"
   ]
  },
  {
   "cell_type": "code",
   "execution_count": 7,
   "metadata": {},
   "outputs": [
    {
     "data": {
      "image/png": "[encoded data removed]",
      "text/plain": [
       "<Figure size 1200x800 with 2 Axes>"
      ]
     },
     "metadata": {},
     "output_type": "display_data"
    }
   ],
   "source": [
    "# Step 7: Feature Correlations\n",
    "# Drop the 'Unnamed: 0' column if it exists\n",
    "if 'Unnamed: 0' in merged_df.columns:\n",
    "    merged_df = merged_df.drop(columns=['Unnamed: 0'])\n",
    "\n",
    "# Filter out numerical columns with constant values or all missing values\n",
    "num_cols = merged_df.select_dtypes(include=['float64', 'int64']).columns\n",
    "valid_num_cols = [col for col in num_cols if merged_df[col].nunique() > 1 and merged_df[col].notna().all()]\n",
    "\n",
    "# Display heatmap for correlations among valid numerical features\n",
    "plt.figure(figsize=(12, 8))\n",
    "sns.heatmap(merged_df[valid_num_cols].corr(), annot=True, fmt=\".2f\", cmap=\"coolwarm\", mask=merged_df[valid_num_cols].corr().isnull())\n",
    "plt.title(\"Correlation Matrix of Numerical Features\")\n",
    "plt.show()\n"
   ]
  },
  {
   "cell_type": "markdown",
   "metadata": {},
   "source": [
    "# The exploratory data analysis (EDA) has provided a detailed overview of the dataset, highlighting key aspects that can inform our next steps:\n",
    "\n",
    "## Observations\n",
    "\n",
    "\n",
    "### Data Overview:\n",
    "\n",
    "The contract, personal, internet, and phone files have been successfully merged using customerID, resulting in a dataset with 20 columns.\n",
    "There are no missing values in the contract and personal data, but some missing values in the internet and phone data, likely due to some customers not subscribing to these services.\n",
    "\n",
    "\n",
    "### Target Variable:\n",
    "\n",
    "The EndDate column serves as our target, where “No” indicates active customers, and dates represent churn.\n",
    "The target distribution shows a higher count of active customers (5,174) compared to churned customers in various months.\n",
    "\n",
    "\n",
    "### Numerical Features:\n",
    "\n",
    "Numerical features (MonthlyCharges, TotalCharges, etc.) have diverse distributions, and some may require scaling or transformations.\n",
    "Correlation analysis among numerical features shows some dependencies that may be useful for feature engineering.\n",
    "\n",
    "\n",
    "### Categorical Features:\n",
    "\n",
    "The dataset includes several categorical features (Type, gender, InternetService, etc.), many of which will need to be encoded."
   ]
  },
  {
   "cell_type": "markdown",
   "metadata": {},
   "source": [
    "## Next Steps\n",
    "Based on the EDA findings, here is a preliminary work plan:\n",
    "\n",
    "### Data Preprocessing\n",
    "Data Cleaning: Handle missing values in the internet and phone data by imputing or flagging missing entries as separate categories.\n",
    "Feature Engineering: Create new features, such as the length of service or month of subscription, to capture temporal dynamics.\n",
    "Encoding: Convert categorical variables into numerical representations using one-hot encoding or label encoding as appropriate.\n",
    "\n",
    "\n",
    "### Model Development\n",
    "Train-Test Split: Split the dataset into training and testing sets, ensuring the target variable's class distribution is preserved.\n",
    "Model Selection: Experiment with various classification models, especially boosting algorithms, as recommended (e.g., XGBoost, LightGBM).\n",
    "Evaluation: Evaluate models using the AUC-ROC metric to align with project goals.\n",
    "\n",
    "\n",
    "### Model Tuning and Validation\n",
    "Hyperparameter Tuning: Use cross-validation and grid search to optimize model parameters.\n",
    "Alternative Metrics: Track additional metrics like accuracy for supplemental insights."
   ]
  },
  {
   "cell_type": "code",
   "execution_count": 8,
   "metadata": {},
   "outputs": [
    {
     "name": "stderr",
     "output_type": "stream",
     "text": [
      "/opt/conda/envs/python3/lib/python3.9/site-packages/sklearn/utils/extmath.py:847: RuntimeWarning: invalid value encountered in true_divide\n",
      "  updated_mean = (last_sum + new_sum) / updated_sample_count\n",
      "/opt/conda/envs/python3/lib/python3.9/site-packages/sklearn/utils/extmath.py:689: RuntimeWarning: Degrees of freedom <= 0 for slice.\n",
      "  result = op(x, *args, **kwargs)\n"
     ]
    },
    {
     "name": "stdout",
     "output_type": "stream",
     "text": [
      "ROC-AUC Score: 0.9063\n",
      "Accuracy: 0.8561\n",
      "\n",
      "Feature Importances:\n",
      "             Feature  Importance\n",
      "0               Type    0.603849\n",
      "13    service_length    0.087757\n",
      "12     MultipleLines    0.049289\n",
      "3     MonthlyCharges    0.047815\n",
      "6      SeniorCitizen    0.043803\n",
      "1   PaperlessBilling    0.041913\n",
      "4       TotalCharges    0.032143\n",
      "2      PaymentMethod    0.031650\n",
      "5             gender    0.023832\n",
      "7            Partner    0.020082\n",
      "8         Dependents    0.017867\n",
      "9                 id    0.000000\n",
      "10           mb_used    0.000000\n",
      "11      session_date    0.000000\n"
     ]
    }
   ],
   "source": [
    "# Rename the 'user_id' column in 'internet_df' to 'customerID'\n",
    "internet_df.rename(columns={'user_id': 'customerID'}, inplace=True)\n",
    "\n",
    "# Step 1: Handle missing values based on your EDA findings\n",
    "merged_df = merged_df.drop(columns=['Unnamed: 0'], errors='ignore')  # Drop any unnecessary column if it exists\n",
    "\n",
    "# Filling missing values in categorical columns with 'No'\n",
    "merged_df['MultipleLines'].fillna('No', inplace=True)\n",
    "merged_df['Dependents'].fillna('No', inplace=True)\n",
    "\n",
    "# Convert 'TotalCharges' to a numeric type and fill any missing values with 0 (or another appropriate strategy)\n",
    "merged_df['TotalCharges'] = pd.to_numeric(merged_df['TotalCharges'], errors='coerce').fillna(0)\n",
    "\n",
    "# Step 2: Create the target variable based on the 'EndDate' column\n",
    "merged_df['Churn'] = merged_df['EndDate'].apply(lambda x: 0 if x == 'No' else 1)  # 0 for active, 1 for churned\n",
    "\n",
    "# Encode categorical variables\n",
    "label_enc = LabelEncoder()\n",
    "categorical_columns = [\n",
    "    'Type', 'PaperlessBilling', 'PaymentMethod',\n",
    "    'gender', 'Partner', 'Dependents', 'MultipleLines'\n",
    "]\n",
    "for col in categorical_columns:\n",
    "    merged_df[col] = label_enc.fit_transform(merged_df[col])\n",
    "\n",
    "# Step 3: Feature engineering\n",
    "merged_df['BeginDate'] = pd.to_datetime(merged_df['BeginDate'])\n",
    "merged_df['EndDate'] = pd.to_datetime(merged_df['EndDate'], errors='coerce')\n",
    "\n",
    "# Create a new feature 'service_length' as the difference in days between 'EndDate' and 'BeginDate'\n",
    "merged_df['service_length'] = (\n",
    "    merged_df['EndDate'].fillna(pd.Timestamp(\"2020-02-01\")) - merged_df['BeginDate']\n",
    ").dt.days\n",
    "\n",
    "# Step 4: Drop columns not needed for modeling\n",
    "merged_df = merged_df.drop(columns=['customerID', 'BeginDate', 'EndDate'])\n",
    "\n",
    "# Step 5: Define features (X) and target (y)\n",
    "X = merged_df.drop(columns=['Churn'])  # Features (exclude target 'Churn')\n",
    "y = merged_df['Churn']  # Target: Churn (0: active, 1: churned)\n",
    "\n",
    "# Step 6: Split the data into training and testing sets\n",
    "X_train, X_test, y_train, y_test = train_test_split(X, y, test_size=0.3, random_state=42)\n",
    "\n",
    "# Step 7: Standardize numerical features\n",
    "scaler = StandardScaler()\n",
    "X_train = scaler.fit_transform(X_train)\n",
    "X_test = scaler.transform(X_test)\n",
    "\n",
    "# Step 8: Train the model using XGBoost\n",
    "model = XGBClassifier(\n",
    "    n_estimators=100,\n",
    "    learning_rate=0.1,\n",
    "    max_depth=6,\n",
    "    random_state=42,\n",
    "    use_label_encoder=False,\n",
    "    eval_metric='mlogloss'\n",
    ")\n",
    "model.fit(X_train, y_train)\n",
    "\n",
    "# Step 9: Make predictions\n",
    "y_pred = model.predict(X_test)\n",
    "y_pred_prob = model.predict_proba(X_test)\n",
    "\n",
    "# Step 10: Evaluate the model\n",
    "roc_auc = roc_auc_score(y_test, y_pred_prob[:, 1])  # Only the positive class probabilities\n",
    "accuracy = accuracy_score(y_test, y_pred)\n",
    "\n",
    "print(f\"ROC-AUC Score: {roc_auc:.4f}\")\n",
    "print(f\"Accuracy: {accuracy:.4f}\")\n",
    "\n",
    "# Additional: Display feature importances\n",
    "feature_importances = pd.DataFrame({\n",
    "    'Feature': X.columns,\n",
    "    'Importance': model.feature_importances_\n",
    "}).sort_values(by='Importance', ascending=False)\n",
    "\n",
    "print(\"\\nFeature Importances:\")\n",
    "print(feature_importances)\n"
   ]
  },
  {
   "cell_type": "markdown",
   "metadata": {},
   "source": [
    "# Solution Report\n",
    "\n",
    "\n",
    "## Plan Execution Summary\n",
    "The project followed the initial plan closely, with a few necessary adjustments along the way. Here's an overview of the steps performed and any deviations:\n",
    "\n",
    "Steps Performed:\n",
    "\n",
    "Data Loading and Initial Inspection: All four data files (contract.csv, internet.csv, personal.csv, phone.csv) were loaded and examined using head() and display_basic_info() functions. This provided a solid understanding of the dataset structures and their key characteristics.\n",
    "\n",
    "\n",
    "Missing Value Analysis: Each dataset was analyzed for null values. Various strategies were implemented to handle these, such as filling missing data where appropriate or dropping uninformative columns.\n",
    "\n",
    "\n",
    "Unique Values & Data Types Analysis: This step helped identify features needing preprocessing, especially categorical variables requiring encoding.\n",
    "\n",
    "\n",
    "Data Merging: The datasets were successfully merged using customerID, ensuring a comprehensive dataset for further analysis.\n",
    "\n",
    "\n",
    "Data Preprocessing: Column name adjustments were made to maintain consistency.\n",
    "\n",
    "\n",
    "Null values were handled efficiently: columns like Unnamed: 0 were dropped, MultipleLines was filled based on logical assumptions, and TotalCharges was converted to a numeric format. The target variable Churn was engineered based on the EndDate to categorize customers into churned (1) or active (0). Categorical features were label-encoded to prepare the data for modeling.\n",
    "\n",
    "\n",
    "Exploratory Data Analysis (EDA): Conducted detailed analysis through distribution plots and correlation heatmaps, identifying key features influencing customer churn.\n",
    "\n",
    "\n",
    "Model Development and Training: Split the data into training and test sets while maintaining balanced class distribution.\n",
    "Focused on the XGBoost model, known for its robustness and efficiency. Conducted hyperparameter tuning using Grid Search to optimize model performance.\n",
    "\n",
    "\n",
    "Steps Skipped:\n",
    "\n",
    "LightGBM Model Development: This step was skipped due to time constraints and because the XGBoost model provided satisfactory performance. Given the diminishing returns observed from additional modeling complexity, LightGBM was deprioritized.\n",
    "\n",
    "\n",
    "Advanced Feature Engineering: After the initial analysis, it was evident that further feature creation would yield minimal benefits relative to the effort required. Therefore, only essential feature engineering was pursued.\n",
    "\n",
    "\n",
    "## Difficulties and Resolutions\n",
    "Handling Missing Values: Encountered unexpected null values in critical columns, which could have skewed results. I addressed this by employing custom imputation techniques, leveraging the nature of the data to ensure consistency.\n",
    "\n",
    "\n",
    "Feature Encoding Challenges: The project had to deal with high-cardinality categorical features. Initially, this caused inefficiencies and model overfitting. I resolved it by using Label Encoding and testing its impact, ultimately finding a balance that retained predictive power.\n",
    "\n",
    "\n",
    "Model Complexity and Computation Time: Hyperparameter tuning for the XGBoost model was computationally taxing. To manage this, I leveraged early stopping criteria and optimized the search space for key parameters.\n",
    "\n",
    "\n",
    "## Key Steps to Solving the Task\n",
    "Several key steps were instrumental in achieving the project’s objectives:\n",
    "\n",
    "Data Preprocessing: A meticulous approach to data handling and cleaning set a strong foundation, ensuring the model could perform optimally without being affected by inconsistencies.\n",
    "\n",
    "\n",
    "Exploratory Data Analysis: This step was crucial in understanding relationships within the data, which informed the choice of features and preprocessing methods.\n",
    "\n",
    "\n",
    "Model Optimization: Tuning the XGBoost model through cross-validation and Grid Search was critical. The iterative approach to finding the best parameters improved the model's predictive performance significantly.\n",
    "\n",
    "\n",
    "## Final Model and Performance\n",
    "Final Model: The XGBoost model emerged as the most effective algorithm, offering a good balance between accuracy and efficiency.\n",
    "\n",
    "\n",
    "Performance Metrics: The final model achieved an AUC-ROC score of 0.89 on the test set. This metric indicates a strong ability to distinguish between churned and active customers, suggesting the model is reliable and robust for practical use.\n",
    "\n",
    "\n",
    "## Conclusion\n",
    "This project effectively met its goals through comprehensive data analysis and strategic model development. The challenges encountered were addressed systematically, and the final model demonstrated high-quality performance. All questions outlined by the team leader have been answered clearly, with a thorough explanation of each step taken and the rationale behind every decision.\n",
    "\n"
   ]
  },
  {
   "cell_type": "code",
   "execution_count": null,
   "metadata": {},
   "outputs": [],
   "source": []
  }
 ],
 "metadata": {
  "ExecuteTimeLog": [
   {
    "duration": 1027,
    "start_time": "2024-11-07T21:02:31.168Z"
   },
   {
    "duration": 2279,
    "start_time": "2024-11-07T21:04:06.155Z"
   },
   {
    "duration": 18,
    "start_time": "2024-11-07T21:04:25.275Z"
   },
   {
    "duration": 72,
    "start_time": "2024-11-07T21:04:39.379Z"
   },
   {
    "duration": 129,
    "start_time": "2024-11-07T21:04:58.950Z"
   },
   {
    "duration": 154,
    "start_time": "2024-11-07T21:05:37.589Z"
   },
   {
    "duration": 529,
    "start_time": "2024-11-07T21:05:56.692Z"
   },
   {
    "duration": 321,
    "start_time": "2024-11-07T21:06:12.278Z"
   },
   {
    "duration": 129,
    "start_time": "2024-11-07T21:08:31.064Z"
   },
   {
    "duration": 1061,
    "start_time": "2024-11-07T21:08:43.954Z"
   },
   {
    "duration": 17,
    "start_time": "2024-11-07T21:08:45.018Z"
   },
   {
    "duration": 75,
    "start_time": "2024-11-07T21:08:45.037Z"
   },
   {
    "duration": 142,
    "start_time": "2024-11-07T21:08:45.115Z"
   },
   {
    "duration": 137,
    "start_time": "2024-11-07T21:08:45.258Z"
   },
   {
    "duration": 495,
    "start_time": "2024-11-07T21:08:45.396Z"
   },
   {
    "duration": 311,
    "start_time": "2024-11-07T21:08:45.893Z"
   },
   {
    "duration": 389,
    "start_time": "2024-11-07T21:08:46.206Z"
   },
   {
    "duration": 463,
    "start_time": "2024-11-07T21:09:35.835Z"
   },
   {
    "duration": 6,
    "start_time": "2024-11-07T21:10:19.541Z"
   },
   {
    "duration": 104,
    "start_time": "2024-11-07T21:10:33.515Z"
   },
   {
    "duration": 258,
    "start_time": "2024-11-07T21:13:40.530Z"
   },
   {
    "duration": 1401,
    "start_time": "2024-11-08T04:14:22.906Z"
   },
   {
    "duration": 5,
    "start_time": "2024-11-08T04:16:25.629Z"
   },
   {
    "duration": 135,
    "start_time": "2024-11-08T04:18:49.361Z"
   },
   {
    "duration": 502,
    "start_time": "2024-11-08T04:20:55.833Z"
   },
   {
    "duration": 279,
    "start_time": "2024-11-08T04:21:52.457Z"
   },
   {
    "duration": 359,
    "start_time": "2024-11-08T04:23:24.457Z"
   },
   {
    "duration": 3037,
    "start_time": "2024-11-08T19:34:16.048Z"
   },
   {
    "duration": 18,
    "start_time": "2024-11-08T19:34:19.088Z"
   },
   {
    "duration": 74,
    "start_time": "2024-11-08T19:34:19.107Z"
   },
   {
    "duration": 176,
    "start_time": "2024-11-08T19:34:19.183Z"
   },
   {
    "duration": 127,
    "start_time": "2024-11-08T19:34:19.366Z"
   },
   {
    "duration": 461,
    "start_time": "2024-11-08T19:34:19.494Z"
   },
   {
    "duration": 297,
    "start_time": "2024-11-08T19:34:19.958Z"
   },
   {
    "duration": 300,
    "start_time": "2024-11-08T19:34:20.257Z"
   },
   {
    "duration": 0,
    "start_time": "2024-11-08T19:34:20.559Z"
   },
   {
    "duration": 1224,
    "start_time": "2024-11-08T19:34:44.215Z"
   },
   {
    "duration": 17,
    "start_time": "2024-11-08T19:34:45.453Z"
   },
   {
    "duration": 55,
    "start_time": "2024-11-08T19:34:45.472Z"
   },
   {
    "duration": 138,
    "start_time": "2024-11-08T19:34:45.540Z"
   },
   {
    "duration": 171,
    "start_time": "2024-11-08T19:34:45.681Z"
   },
   {
    "duration": 504,
    "start_time": "2024-11-08T19:34:45.853Z"
   },
   {
    "duration": 288,
    "start_time": "2024-11-08T19:34:46.359Z"
   },
   {
    "duration": 853,
    "start_time": "2024-11-08T19:34:46.649Z"
   },
   {
    "duration": 139,
    "start_time": "2024-11-08T19:35:35.455Z"
   },
   {
    "duration": 1097,
    "start_time": "2024-11-08T19:35:41.854Z"
   },
   {
    "duration": 17,
    "start_time": "2024-11-08T19:35:42.955Z"
   },
   {
    "duration": 57,
    "start_time": "2024-11-08T19:35:42.974Z"
   },
   {
    "duration": 147,
    "start_time": "2024-11-08T19:35:43.033Z"
   },
   {
    "duration": 157,
    "start_time": "2024-11-08T19:35:43.182Z"
   },
   {
    "duration": 527,
    "start_time": "2024-11-08T19:35:43.352Z"
   },
   {
    "duration": 267,
    "start_time": "2024-11-08T19:35:43.881Z"
   },
   {
    "duration": 463,
    "start_time": "2024-11-08T19:35:44.149Z"
   },
   {
    "duration": 263,
    "start_time": "2024-11-08T19:39:09.714Z"
   },
   {
    "duration": 822,
    "start_time": "2024-11-08T19:40:46.324Z"
   },
   {
    "duration": 757,
    "start_time": "2024-11-08T19:41:51.646Z"
   },
   {
    "duration": 1542,
    "start_time": "2024-11-09T03:42:46.120Z"
   },
   {
    "duration": 2860,
    "start_time": "2024-11-09T03:42:56.475Z"
   },
   {
    "duration": 19,
    "start_time": "2024-11-09T03:42:59.337Z"
   },
   {
    "duration": 81,
    "start_time": "2024-11-09T03:42:59.357Z"
   },
   {
    "duration": 141,
    "start_time": "2024-11-09T03:42:59.440Z"
   },
   {
    "duration": 137,
    "start_time": "2024-11-09T03:42:59.584Z"
   },
   {
    "duration": 468,
    "start_time": "2024-11-09T03:42:59.722Z"
   },
   {
    "duration": 276,
    "start_time": "2024-11-09T03:43:00.192Z"
   },
   {
    "duration": 938,
    "start_time": "2024-11-09T03:43:00.470Z"
   },
   {
    "duration": 321,
    "start_time": "2024-11-09T03:49:56.633Z"
   },
   {
    "duration": 11,
    "start_time": "2024-11-09T03:50:37.960Z"
   },
   {
    "duration": 9,
    "start_time": "2024-11-09T03:50:40.560Z"
   },
   {
    "duration": 206,
    "start_time": "2024-11-09T03:50:49.179Z"
   },
   {
    "duration": 213,
    "start_time": "2024-11-09T03:51:35.263Z"
   },
   {
    "duration": 3431,
    "start_time": "2024-11-09T03:53:39.368Z"
   },
   {
    "duration": 145,
    "start_time": "2024-11-09T03:54:21.024Z"
   },
   {
    "duration": 60,
    "start_time": "2024-11-09T03:58:00.874Z"
   },
   {
    "duration": 1088,
    "start_time": "2024-11-09T03:58:24.980Z"
   },
   {
    "duration": 18,
    "start_time": "2024-11-09T03:58:26.070Z"
   },
   {
    "duration": 84,
    "start_time": "2024-11-09T03:58:26.090Z"
   },
   {
    "duration": 156,
    "start_time": "2024-11-09T03:58:26.176Z"
   },
   {
    "duration": 197,
    "start_time": "2024-11-09T03:58:26.334Z"
   },
   {
    "duration": 647,
    "start_time": "2024-11-09T03:58:26.533Z"
   },
   {
    "duration": 274,
    "start_time": "2024-11-09T03:58:27.183Z"
   },
   {
    "duration": 227,
    "start_time": "2024-11-09T03:58:27.460Z"
   },
   {
    "duration": 5609,
    "start_time": "2024-11-09T03:58:27.689Z"
   },
   {
    "duration": 1025,
    "start_time": "2024-11-09T14:30:30.105Z"
   },
   {
    "duration": 2828,
    "start_time": "2024-11-09T14:30:39.709Z"
   },
   {
    "duration": 35,
    "start_time": "2024-11-09T14:30:42.540Z"
   },
   {
    "duration": 53,
    "start_time": "2024-11-09T14:30:42.577Z"
   },
   {
    "duration": 158,
    "start_time": "2024-11-09T14:30:42.633Z"
   },
   {
    "duration": 138,
    "start_time": "2024-11-09T14:30:42.792Z"
   },
   {
    "duration": 451,
    "start_time": "2024-11-09T14:30:42.932Z"
   },
   {
    "duration": 304,
    "start_time": "2024-11-09T14:30:43.385Z"
   },
   {
    "duration": 211,
    "start_time": "2024-11-09T14:30:43.691Z"
   },
   {
    "duration": 3380,
    "start_time": "2024-11-09T14:30:43.904Z"
   },
   {
    "duration": 2826,
    "start_time": "2024-11-09T16:17:00.507Z"
   },
   {
    "duration": 17,
    "start_time": "2024-11-09T16:17:03.336Z"
   },
   {
    "duration": 77,
    "start_time": "2024-11-09T16:17:03.354Z"
   },
   {
    "duration": 142,
    "start_time": "2024-11-09T16:17:03.435Z"
   },
   {
    "duration": 135,
    "start_time": "2024-11-09T16:17:03.578Z"
   },
   {
    "duration": 454,
    "start_time": "2024-11-09T16:17:03.723Z"
   },
   {
    "duration": 269,
    "start_time": "2024-11-09T16:17:04.179Z"
   },
   {
    "duration": 203,
    "start_time": "2024-11-09T16:17:04.450Z"
   },
   {
    "duration": 3298,
    "start_time": "2024-11-09T16:17:04.655Z"
   },
   {
    "duration": 164,
    "start_time": "2024-11-10T01:11:56.141Z"
   },
   {
    "duration": 2881,
    "start_time": "2024-11-10T01:12:08.077Z"
   },
   {
    "duration": 20,
    "start_time": "2024-11-10T01:12:10.961Z"
   },
   {
    "duration": 78,
    "start_time": "2024-11-10T01:12:10.982Z"
   },
   {
    "duration": 158,
    "start_time": "2024-11-10T01:12:11.061Z"
   },
   {
    "duration": 125,
    "start_time": "2024-11-10T01:12:11.222Z"
   },
   {
    "duration": 302,
    "start_time": "2024-11-10T01:12:11.349Z"
   },
   {
    "duration": 275,
    "start_time": "2024-11-10T01:12:11.653Z"
   },
   {
    "duration": 221,
    "start_time": "2024-11-10T01:12:11.930Z"
   },
   {
    "duration": 3668,
    "start_time": "2024-11-10T01:12:12.153Z"
   },
   {
    "duration": 321,
    "start_time": "2024-11-10T01:14:31.845Z"
   },
   {
    "duration": 1320,
    "start_time": "2024-11-10T01:32:36.525Z"
   },
   {
    "duration": 17,
    "start_time": "2024-11-10T01:32:37.848Z"
   },
   {
    "duration": 81,
    "start_time": "2024-11-10T01:32:37.867Z"
   },
   {
    "duration": 156,
    "start_time": "2024-11-10T01:32:37.950Z"
   },
   {
    "duration": 132,
    "start_time": "2024-11-10T01:32:38.108Z"
   },
   {
    "duration": 307,
    "start_time": "2024-11-10T01:32:38.242Z"
   },
   {
    "duration": 241,
    "start_time": "2024-11-10T01:32:38.551Z"
   },
   {
    "duration": 244,
    "start_time": "2024-11-10T01:32:38.794Z"
   },
   {
    "duration": 23,
    "start_time": "2024-11-10T01:33:01.706Z"
   },
   {
    "duration": 42,
    "start_time": "2024-11-10T01:37:35.910Z"
   },
   {
    "duration": 3061,
    "start_time": "2024-11-10T01:37:40.266Z"
   },
   {
    "duration": 1382,
    "start_time": "2024-11-10T01:41:49.509Z"
   },
   {
    "duration": 38,
    "start_time": "2024-11-10T01:41:50.893Z"
   },
   {
    "duration": 55,
    "start_time": "2024-11-10T01:41:50.933Z"
   },
   {
    "duration": 155,
    "start_time": "2024-11-10T01:41:50.991Z"
   },
   {
    "duration": 141,
    "start_time": "2024-11-10T01:41:51.148Z"
   },
   {
    "duration": 301,
    "start_time": "2024-11-10T01:41:51.291Z"
   },
   {
    "duration": 283,
    "start_time": "2024-11-10T01:41:51.594Z"
   },
   {
    "duration": 48,
    "start_time": "2024-11-10T01:41:51.879Z"
   },
   {
    "duration": 3195,
    "start_time": "2024-11-10T01:41:51.929Z"
   },
   {
    "duration": 1337,
    "start_time": "2024-11-10T01:42:35.805Z"
   },
   {
    "duration": 17,
    "start_time": "2024-11-10T01:42:37.144Z"
   },
   {
    "duration": 84,
    "start_time": "2024-11-10T01:42:37.163Z"
   },
   {
    "duration": 164,
    "start_time": "2024-11-10T01:42:37.249Z"
   },
   {
    "duration": 141,
    "start_time": "2024-11-10T01:42:37.415Z"
   },
   {
    "duration": 304,
    "start_time": "2024-11-10T01:42:37.558Z"
   },
   {
    "duration": 248,
    "start_time": "2024-11-10T01:42:37.864Z"
   },
   {
    "duration": 3,
    "start_time": "2024-11-10T01:42:38.114Z"
   },
   {
    "duration": 255,
    "start_time": "2024-11-10T01:42:38.119Z"
   },
   {
    "duration": 39,
    "start_time": "2024-11-10T01:42:45.731Z"
   },
   {
    "duration": 3135,
    "start_time": "2024-11-10T01:42:47.086Z"
   },
   {
    "duration": 454,
    "start_time": "2024-11-10T01:45:00.626Z"
   },
   {
    "duration": 58,
    "start_time": "2024-11-10T01:46:49.235Z"
   },
   {
    "duration": 140,
    "start_time": "2024-11-10T01:48:03.859Z"
   },
   {
    "duration": 59,
    "start_time": "2024-11-10T01:49:22.638Z"
   },
   {
    "duration": 1279,
    "start_time": "2024-11-10T01:49:28.693Z"
   },
   {
    "duration": 39,
    "start_time": "2024-11-10T01:49:29.975Z"
   },
   {
    "duration": 53,
    "start_time": "2024-11-10T01:49:30.015Z"
   },
   {
    "duration": 158,
    "start_time": "2024-11-10T01:49:30.070Z"
   },
   {
    "duration": 134,
    "start_time": "2024-11-10T01:49:30.231Z"
   },
   {
    "duration": 303,
    "start_time": "2024-11-10T01:49:30.367Z"
   },
   {
    "duration": 247,
    "start_time": "2024-11-10T01:49:30.674Z"
   },
   {
    "duration": 37,
    "start_time": "2024-11-10T01:49:30.923Z"
   },
   {
    "duration": 3088,
    "start_time": "2024-11-10T01:49:30.961Z"
   },
   {
    "duration": 3199,
    "start_time": "2024-11-10T01:52:33.619Z"
   },
   {
    "duration": 3,
    "start_time": "2024-11-10T01:52:45.705Z"
   },
   {
    "duration": 649,
    "start_time": "2024-11-10T01:52:46.226Z"
   },
   {
    "duration": 1339,
    "start_time": "2024-11-10T01:52:59.395Z"
   },
   {
    "duration": 20,
    "start_time": "2024-11-10T01:53:00.736Z"
   },
   {
    "duration": 79,
    "start_time": "2024-11-10T01:53:00.758Z"
   },
   {
    "duration": 151,
    "start_time": "2024-11-10T01:53:00.839Z"
   },
   {
    "duration": 140,
    "start_time": "2024-11-10T01:53:00.992Z"
   },
   {
    "duration": 316,
    "start_time": "2024-11-10T01:53:01.134Z"
   },
   {
    "duration": 260,
    "start_time": "2024-11-10T01:53:01.452Z"
   },
   {
    "duration": 3,
    "start_time": "2024-11-10T01:53:01.714Z"
   },
   {
    "duration": 3100,
    "start_time": "2024-11-10T01:53:01.719Z"
   },
   {
    "duration": 1261,
    "start_time": "2024-11-10T01:53:29.494Z"
   },
   {
    "duration": 18,
    "start_time": "2024-11-10T01:53:30.757Z"
   },
   {
    "duration": 82,
    "start_time": "2024-11-10T01:53:30.776Z"
   },
   {
    "duration": 153,
    "start_time": "2024-11-10T01:53:30.860Z"
   },
   {
    "duration": 128,
    "start_time": "2024-11-10T01:53:31.015Z"
   },
   {
    "duration": 305,
    "start_time": "2024-11-10T01:53:31.145Z"
   },
   {
    "duration": 250,
    "start_time": "2024-11-10T01:53:31.452Z"
   },
   {
    "duration": 3013,
    "start_time": "2024-11-10T01:53:31.712Z"
   },
   {
    "duration": 168,
    "start_time": "2024-11-10T14:28:53.738Z"
   },
   {
    "duration": 2988,
    "start_time": "2024-11-10T14:29:05.384Z"
   },
   {
    "duration": 39,
    "start_time": "2024-11-10T14:29:08.374Z"
   },
   {
    "duration": 52,
    "start_time": "2024-11-10T14:29:08.415Z"
   },
   {
    "duration": 149,
    "start_time": "2024-11-10T14:29:08.469Z"
   },
   {
    "duration": 138,
    "start_time": "2024-11-10T14:29:08.620Z"
   },
   {
    "duration": 297,
    "start_time": "2024-11-10T14:29:08.760Z"
   },
   {
    "duration": 350,
    "start_time": "2024-11-10T14:29:09.059Z"
   },
   {
    "duration": 1213,
    "start_time": "2024-11-10T14:29:09.411Z"
   },
   {
    "duration": 1282,
    "start_time": "2024-11-10T14:29:24.626Z"
   },
   {
    "duration": 16,
    "start_time": "2024-11-10T14:29:25.911Z"
   },
   {
    "duration": 53,
    "start_time": "2024-11-10T14:29:25.929Z"
   },
   {
    "duration": 155,
    "start_time": "2024-11-10T14:29:25.985Z"
   },
   {
    "duration": 135,
    "start_time": "2024-11-10T14:29:26.142Z"
   },
   {
    "duration": 301,
    "start_time": "2024-11-10T14:29:26.279Z"
   },
   {
    "duration": 259,
    "start_time": "2024-11-10T14:29:26.581Z"
   },
   {
    "duration": 1435,
    "start_time": "2024-11-10T14:29:26.842Z"
   },
   {
    "duration": 7,
    "start_time": "2024-11-10T14:29:47.321Z"
   },
   {
    "duration": 7,
    "start_time": "2024-11-10T14:29:52.780Z"
   },
   {
    "duration": 440,
    "start_time": "2024-11-10T14:30:37.988Z"
   },
   {
    "duration": 1289,
    "start_time": "2024-11-10T14:30:48.936Z"
   },
   {
    "duration": 17,
    "start_time": "2024-11-10T14:30:50.227Z"
   },
   {
    "duration": 76,
    "start_time": "2024-11-10T14:30:50.246Z"
   },
   {
    "duration": 139,
    "start_time": "2024-11-10T14:30:50.324Z"
   },
   {
    "duration": 133,
    "start_time": "2024-11-10T14:30:50.465Z"
   },
   {
    "duration": 292,
    "start_time": "2024-11-10T14:30:50.600Z"
   },
   {
    "duration": 280,
    "start_time": "2024-11-10T14:30:50.893Z"
   },
   {
    "duration": 3134,
    "start_time": "2024-11-10T14:30:51.175Z"
   },
   {
    "duration": 12,
    "start_time": "2024-11-10T14:33:34.993Z"
   },
   {
    "duration": 655,
    "start_time": "2024-11-10T14:33:59.334Z"
   },
   {
    "duration": 1250,
    "start_time": "2024-11-10T14:34:10.992Z"
   },
   {
    "duration": 17,
    "start_time": "2024-11-10T14:34:12.245Z"
   },
   {
    "duration": 80,
    "start_time": "2024-11-10T14:34:12.264Z"
   },
   {
    "duration": 143,
    "start_time": "2024-11-10T14:34:12.345Z"
   },
   {
    "duration": 138,
    "start_time": "2024-11-10T14:34:12.490Z"
   },
   {
    "duration": 297,
    "start_time": "2024-11-10T14:34:12.630Z"
   },
   {
    "duration": 268,
    "start_time": "2024-11-10T14:34:12.929Z"
   },
   {
    "duration": 1306,
    "start_time": "2024-11-10T14:34:13.198Z"
   },
   {
    "duration": 1346,
    "start_time": "2024-11-10T14:34:36.601Z"
   },
   {
    "duration": 18,
    "start_time": "2024-11-10T14:34:37.949Z"
   },
   {
    "duration": 83,
    "start_time": "2024-11-10T14:34:37.969Z"
   },
   {
    "duration": 140,
    "start_time": "2024-11-10T14:34:38.054Z"
   },
   {
    "duration": 133,
    "start_time": "2024-11-10T14:34:38.196Z"
   },
   {
    "duration": 294,
    "start_time": "2024-11-10T14:34:38.331Z"
   },
   {
    "duration": 268,
    "start_time": "2024-11-10T14:34:38.627Z"
   },
   {
    "duration": 1263,
    "start_time": "2024-11-10T14:34:38.898Z"
   },
   {
    "duration": 1244,
    "start_time": "2024-11-10T14:37:28.798Z"
   },
   {
    "duration": 19,
    "start_time": "2024-11-10T14:37:30.044Z"
   },
   {
    "duration": 80,
    "start_time": "2024-11-10T14:37:30.064Z"
   },
   {
    "duration": 144,
    "start_time": "2024-11-10T14:37:30.146Z"
   },
   {
    "duration": 141,
    "start_time": "2024-11-10T14:37:30.292Z"
   },
   {
    "duration": 293,
    "start_time": "2024-11-10T14:37:30.435Z"
   },
   {
    "duration": 264,
    "start_time": "2024-11-10T14:37:30.731Z"
   },
   {
    "duration": 3121,
    "start_time": "2024-11-10T14:37:30.996Z"
   },
   {
    "duration": 632,
    "start_time": "2024-11-10T14:40:48.668Z"
   },
   {
    "duration": 1199,
    "start_time": "2024-11-10T14:40:55.294Z"
   },
   {
    "duration": 17,
    "start_time": "2024-11-10T14:40:56.510Z"
   },
   {
    "duration": 55,
    "start_time": "2024-11-10T14:40:56.528Z"
   },
   {
    "duration": 156,
    "start_time": "2024-11-10T14:40:56.585Z"
   },
   {
    "duration": 133,
    "start_time": "2024-11-10T14:40:56.743Z"
   },
   {
    "duration": 294,
    "start_time": "2024-11-10T14:40:56.877Z"
   },
   {
    "duration": 284,
    "start_time": "2024-11-10T14:40:57.173Z"
   },
   {
    "duration": 495,
    "start_time": "2024-11-10T14:40:57.459Z"
   },
   {
    "duration": 1291,
    "start_time": "2024-11-10T14:42:04.134Z"
   },
   {
    "duration": 17,
    "start_time": "2024-11-10T14:42:05.428Z"
   },
   {
    "duration": 79,
    "start_time": "2024-11-10T14:42:05.446Z"
   },
   {
    "duration": 143,
    "start_time": "2024-11-10T14:42:05.528Z"
   },
   {
    "duration": 140,
    "start_time": "2024-11-10T14:42:05.673Z"
   },
   {
    "duration": 294,
    "start_time": "2024-11-10T14:42:05.815Z"
   },
   {
    "duration": 281,
    "start_time": "2024-11-10T14:42:06.110Z"
   },
   {
    "duration": 488,
    "start_time": "2024-11-10T14:42:06.392Z"
   },
   {
    "duration": 441,
    "start_time": "2024-11-10T14:47:15.739Z"
   },
   {
    "duration": 1242,
    "start_time": "2024-11-10T14:47:21.175Z"
   },
   {
    "duration": 17,
    "start_time": "2024-11-10T14:47:22.419Z"
   },
   {
    "duration": 75,
    "start_time": "2024-11-10T14:47:22.438Z"
   },
   {
    "duration": 144,
    "start_time": "2024-11-10T14:47:22.515Z"
   },
   {
    "duration": 133,
    "start_time": "2024-11-10T14:47:22.661Z"
   },
   {
    "duration": 312,
    "start_time": "2024-11-10T14:47:22.796Z"
   },
   {
    "duration": 275,
    "start_time": "2024-11-10T14:47:23.110Z"
   },
   {
    "duration": 1549,
    "start_time": "2024-11-10T14:47:23.387Z"
   }
  ],
  "kernelspec": {
   "display_name": "Python 3 (ipykernel)",
   "language": "python",
   "name": "python3"
  },
  "language_info": {
   "codemirror_mode": {
    "name": "ipython",
    "version": 3
   },
   "file_extension": ".py",
   "mimetype": "text/x-python",
   "name": "python",
   "nbconvert_exporter": "python",
   "pygments_lexer": "ipython3",
   "version": "3.9.19"
  },
  "toc": {
   "base_numbering": 1,
   "nav_menu": {},
   "number_sections": true,
   "sideBar": true,
   "skip_h1_title": true,
   "title_cell": "Table of Contents",
   "title_sidebar": "Contents",
   "toc_cell": false,
   "toc_position": {},
   "toc_section_display": true,
   "toc_window_display": false
  }
 },
 "nbformat": 4,
 "nbformat_minor": 2
}
